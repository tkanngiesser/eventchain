{
 "cells": [
  {
   "cell_type": "code",
   "execution_count": 1,
   "metadata": {},
   "outputs": [],
   "source": [
    "#| hide\n",
    "\n",
    "%load_ext autoreload\n",
    "%autoreload 2\n",
    "\n",
    "import pandas as pd\n",
    "from eventchain.core import *"
   ]
  },
  {
   "cell_type": "markdown",
   "metadata": {},
   "source": [
    "# eventchain\n",
    "\n",
    "> Simplified Chain Analytics"
   ]
  },
  {
   "cell_type": "markdown",
   "metadata": {},
   "source": [
    "### What is an event chain ?\n",
    "\n",
    "An **event chain** is basically like a series of dominoes, where knocking over the first one triggers the next one, and so on. In processes or systems, an \"event\" is something that happens—a trigger, an action, a message, etc. Once this first event occurs, it sets off a chain reaction of other events.\n",
    "\n",
    "Imagine you're at home and your doorbell rings. That's the first event. The ringing doorbell could trigger a series of other events:\n",
    "\n",
    "- Your dog starts barking because of the doorbell.\n",
    "- You get up from your chair to see who it is.\n",
    "- You open the door and greet your friend.\n",
    "- You invite your friend inside.\n",
    "- You both sit down and start talking.\n",
    "- Each of these actions is an event, and they're all connected. The doorbell ringing set off a \"chain\" of events, one leading to the next.\n",
    "\n",
    "In business or computer systems, understanding event chains can be crucial for analyzing how actions and reactions are interconnected. Knowing how one event affects the next helps you design better processes, make systems more efficient, or find out where things might go wrong."
   ]
  },
  {
   "cell_type": "markdown",
   "metadata": {},
   "source": [
    "## Install"
   ]
  },
  {
   "cell_type": "markdown",
   "metadata": {},
   "source": [
    "```sh\n",
    "pip install eventchain\n",
    "```"
   ]
  },
  {
   "cell_type": "markdown",
   "metadata": {},
   "source": [
    "## How to use"
   ]
  },
  {
   "cell_type": "markdown",
   "metadata": {},
   "source": [
    "Fill me in please! Don't forget code examples:"
   ]
  },
  {
   "cell_type": "code",
   "execution_count": 1,
   "metadata": {},
   "outputs": [],
   "source": [
    "import pandas as pd\n",
    "from eventchain.core import *"
   ]
  },
  {
   "cell_type": "code",
   "execution_count": 2,
   "metadata": {},
   "outputs": [],
   "source": [
    "#| hide\n",
    "visited = pd.read_csv('../data/visited.csv')\n",
    "purchased = pd.read_csv('../data/purchased.csv')\n",
    "\n",
    "visited['date'] = pd.to_datetime(visited['date'])\n",
    "purchased['date'] = pd.to_datetime(purchased['date'])"
   ]
  },
  {
   "cell_type": "markdown",
   "metadata": {},
   "source": [
    "Building a new event chain is super simple: \n",
    "\n",
    "You create a new `EventChain` object with the following parameters:"
   ]
  },
  {
   "cell_type": "code",
   "execution_count": 3,
   "metadata": {},
   "outputs": [],
   "source": [
    "chain = EventChain(df1=visited, df2=purchased, user_col=\"user_id\", timestamp_col=\"date\", suffix=[\"added_to_shoppingcard\", \"purchased\"])"
   ]
  },
  {
   "cell_type": "markdown",
   "metadata": {},
   "source": [
    "Once done you have access to all event chains calculated for you."
   ]
  },
  {
   "cell_type": "markdown",
   "metadata": {},
   "source": [
    "As an example let's have a look at the event chain **first_before_first** <br>\n",
    "which can be interpreted in our example as the first date a user added an item to their shopping card before the first date they purchased."
   ]
  },
  {
   "cell_type": "code",
   "execution_count": 4,
   "metadata": {},
   "outputs": [
    {
     "data": {
      "text/html": [
       "<div>\n",
       "<style scoped>\n",
       "    .dataframe tbody tr th:only-of-type {\n",
       "        vertical-align: middle;\n",
       "    }\n",
       "\n",
       "    .dataframe tbody tr th {\n",
       "        vertical-align: top;\n",
       "    }\n",
       "\n",
       "    .dataframe thead th {\n",
       "        text-align: right;\n",
       "    }\n",
       "</style>\n",
       "<table border=\"1\" class=\"dataframe\">\n",
       "  <thead>\n",
       "    <tr style=\"text-align: right;\">\n",
       "      <th></th>\n",
       "      <th>user_id</th>\n",
       "      <th>date_added_to_shoppingcard</th>\n",
       "      <th>date_purchased</th>\n",
       "      <th>gap</th>\n",
       "    </tr>\n",
       "  </thead>\n",
       "  <tbody>\n",
       "    <tr>\n",
       "      <th>0</th>\n",
       "      <td>1</td>\n",
       "      <td>2018-07-01</td>\n",
       "      <td>2018-07-02</td>\n",
       "      <td>1 days</td>\n",
       "    </tr>\n",
       "    <tr>\n",
       "      <th>3</th>\n",
       "      <td>5</td>\n",
       "      <td>2018-07-10</td>\n",
       "      <td>2018-07-11</td>\n",
       "      <td>1 days</td>\n",
       "    </tr>\n",
       "    <tr>\n",
       "      <th>4</th>\n",
       "      <td>6</td>\n",
       "      <td>2018-07-07</td>\n",
       "      <td>2018-07-10</td>\n",
       "      <td>3 days</td>\n",
       "    </tr>\n",
       "    <tr>\n",
       "      <th>5</th>\n",
       "      <td>8</td>\n",
       "      <td>2018-08-01</td>\n",
       "      <td>2018-08-02</td>\n",
       "      <td>1 days</td>\n",
       "    </tr>\n",
       "  </tbody>\n",
       "</table>\n",
       "</div>"
      ],
      "text/plain": [
       "   user_id date_added_to_shoppingcard date_purchased    gap\n",
       "0        1                 2018-07-01     2018-07-02 1 days\n",
       "3        5                 2018-07-10     2018-07-11 1 days\n",
       "4        6                 2018-07-07     2018-07-10 3 days\n",
       "5        8                 2018-08-01     2018-08-02 1 days"
      ]
     },
     "execution_count": 4,
     "metadata": {},
     "output_type": "execute_result"
    }
   ],
   "source": [
    "chain.first_before_first"
   ]
  },
  {
   "cell_type": "markdown",
   "metadata": {},
   "source": [
    "In addition (and for illustration purposes ignoring the fact that a shopping cart would have its own ID), we can now check the last date a user created a shopping cart before their first purchase.\n"
   ]
  },
  {
   "cell_type": "code",
   "execution_count": 5,
   "metadata": {},
   "outputs": [
    {
     "data": {
      "text/html": [
       "<div>\n",
       "<style scoped>\n",
       "    .dataframe tbody tr th:only-of-type {\n",
       "        vertical-align: middle;\n",
       "    }\n",
       "\n",
       "    .dataframe tbody tr th {\n",
       "        vertical-align: top;\n",
       "    }\n",
       "\n",
       "    .dataframe thead th {\n",
       "        text-align: right;\n",
       "    }\n",
       "</style>\n",
       "<table border=\"1\" class=\"dataframe\">\n",
       "  <thead>\n",
       "    <tr style=\"text-align: right;\">\n",
       "      <th></th>\n",
       "      <th>user_id</th>\n",
       "      <th>date_added_to_shoppingcard</th>\n",
       "      <th>date_purchased</th>\n",
       "      <th>gap</th>\n",
       "    </tr>\n",
       "  </thead>\n",
       "  <tbody>\n",
       "    <tr>\n",
       "      <th>0</th>\n",
       "      <td>1</td>\n",
       "      <td>2018-07-01</td>\n",
       "      <td>2018-07-02</td>\n",
       "      <td>1 days</td>\n",
       "    </tr>\n",
       "    <tr>\n",
       "      <th>4</th>\n",
       "      <td>6</td>\n",
       "      <td>2018-07-08</td>\n",
       "      <td>2018-07-10</td>\n",
       "      <td>2 days</td>\n",
       "    </tr>\n",
       "  </tbody>\n",
       "</table>\n",
       "</div>"
      ],
      "text/plain": [
       "   user_id date_added_to_shoppingcard date_purchased    gap\n",
       "0        1                 2018-07-01     2018-07-02 1 days\n",
       "4        6                 2018-07-08     2018-07-10 2 days"
      ]
     },
     "execution_count": 5,
     "metadata": {},
     "output_type": "execute_result"
    }
   ],
   "source": [
    "chain.last_before_first"
   ]
  },
  {
   "cell_type": "markdown",
   "metadata": {},
   "source": [
    "For user_1 the first date and last date for shpping cart creation is the same, however user_6 had two shopping carts created (here our interpretation would be she dropped out one time). \n",
    "\n",
    "Please note that - in these first iterations of the package - not much tooling has been added to do such comparisons in a convenient way, so you would have to implement your own downstream analysis. \n"
   ]
  },
  {
   "cell_type": "markdown",
   "metadata": {},
   "source": [
    "### Some areas where event chain analysis can be used:\n",
    "\n",
    "These easy to build event chains enables lots of ways to analyse your data and to answer interesting questions about your processes or customer behaviour.\n",
    "\n",
    "- Time Analyis\n",
    "- Cost Analysis\n",
    "- Dependency Mapping\n",
    "- Sensitivity Analysis\n",
    "- Simulation Models\n",
    "- Error Impact Assessment\n",
    "- Success Metrics\n",
    "- User Experience Journey\n",
    "- Feedback Loops\n",
    "- Comparative Analysis"
   ]
  },
  {
   "cell_type": "markdown",
   "metadata": {},
   "source": []
  }
 ],
 "metadata": {
  "kernelspec": {
   "display_name": "python3",
   "language": "python",
   "name": "python3"
  }
 },
 "nbformat": 4,
 "nbformat_minor": 4
}
