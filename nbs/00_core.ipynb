{
 "cells": [
  {
   "cell_type": "markdown",
   "metadata": {},
   "source": [
    "# eventchain\n",
    "\n",
    "> Building and anylizing event chains in a convenient way."
   ]
  },
  {
   "cell_type": "code",
   "execution_count": null,
   "metadata": {},
   "outputs": [],
   "source": [
    "#| default_exp core"
   ]
  },
  {
   "cell_type": "code",
   "execution_count": null,
   "metadata": {},
   "outputs": [],
   "source": [
    "#| export\n",
    "import pandas as pd\n",
    "from scipy import stats\n",
    "from scipy.stats import norm"
   ]
  },
  {
   "cell_type": "code",
   "execution_count": null,
   "metadata": {},
   "outputs": [],
   "source": [
    "#| export\n",
    "\n",
    "class EventChain:\n",
    "    \n",
    "    def __init__(self, df1: pd.DataFrame, df2: pd.DataFrame, user_col: str, timestamp_col: str, suffix):\n",
    "        \n",
    "        self.timestamp_a = f\"{timestamp_col}_{suffix[0]}\"\n",
    "        self.timestamp_b = f\"{timestamp_col}_{suffix[1]}\"\n",
    "\n",
    "        self.user_col = user_col    \n",
    "        self.any_event_A = df1.rename(columns={timestamp_col: self.timestamp_a})\n",
    "        self.any_event_B = df2.rename(columns={timestamp_col: self.timestamp_b})\n",
    "        self.first_event_A = self.any_event_A.groupby(self.user_col)[f\"{timestamp_col}_{suffix[0]}\"].min().reset_index()\n",
    "        self.last_event_A = self.any_event_A.groupby(self.user_col)[f\"{timestamp_col}_{suffix[0]}\"].max().reset_index()\n",
    "        self.first_event_B = self.any_event_B.groupby(self.user_col)[f\"{timestamp_col}_{suffix[1]}\"].min().reset_index()\n",
    "        self.last_event_B = self.any_event_B.groupby(self.user_col)[f\"{timestamp_col}_{suffix[1]}\"].max().reset_index()\n",
    "            \n",
    "    def anti_join(self, df1, df2): \n",
    "        return df1.merge(df2, how=\"left\", on=self.user_col, indicator=True).query(\"_merge == 'left_only'\").drop(columns=\"_merge\")\n",
    "\n",
    "    def before(self, df1, df2): \n",
    "        return (df1\n",
    "            .merge(df2, how=\"inner\", on=self.user_col).query(f\"{self.timestamp_a} < {self.timestamp_b}\")\n",
    "            .assign(gap=lambda x: x[self.timestamp_b] - x[self.timestamp_a]))\n",
    "\n",
    "    def before_or_equal(self, df1, df2): \n",
    "        return (df1\n",
    "            .merge(df2, how=\"inner\", on=self.user_col).query(f\"{self.timestamp_a} <= {self.timestamp_b}\")\n",
    "            .assign(gap=lambda x: x[self.timestamp_b] - x[self.timestamp_a]))\n",
    "\n",
    "    @property\n",
    "    def first_before_first(self): \n",
    "        return self.before(self.first_event_A, self.first_event_B)\n",
    "\n",
    "    @property\n",
    "    def first_before_or_equal_first(self):\n",
    "        return self.before_or_equal(self.first_event_A, self.first_event_B)\n",
    "    \n",
    "    @property\n",
    "    def first_before_last(self): \n",
    "        return self.before(self.first_event_A, self.last_event_B)\n",
    "\n",
    "    @property\n",
    "    def first_before_or_equal_last(self): \n",
    "        return self.before_or_equal(self.first_event_A, self.last_event_B)\n",
    "    \n",
    "    @property\n",
    "    def last_before_first(self):\n",
    "        return self.before(self.last_event_A, self.first_event_B)\n",
    "\n",
    "    @property\n",
    "    def last_before_or_equal_first(self):\n",
    "        return self.before_or_equal(self.last_event_A, self.first_event_B)\n",
    "\n",
    "    @property\n",
    "    def last_before_last(self):\n",
    "        return self.before(self.last_event_A, self.last_event_B)\n",
    "\n",
    "    @property\n",
    "    def last_before_or_equal_last(self):\n",
    "        return self.before_or_equal(self.last_event_A, self.last_event_B)\n",
    "\n",
    "    @property\n",
    "    def any_before_any(self):\n",
    "        return self.before_or_equal(self.any_event_A, self.any_event_B)\n",
    "\n",
    "    @property\n",
    "    def any_before_first(self):\n",
    "        return self.before_or_equal(self.any_event_A, self.first_event_B)\n",
    "\n",
    "    @property\n",
    "    def any_before_or_equal_first(self):\n",
    "        return self.before_or_equal(self.any_event_A, self.first_event_B)\n",
    "\n",
    "    @property\n",
    "    def any_before_last(self):\n",
    "        return self.before_or_equal(self.any_event_A, self.last_event_B)\n",
    "\n",
    "    @property\n",
    "    def any_before_or_equal_last(self):\n",
    "        return self.before_or_equal(self.any_event_A, self.last_event_B)\n",
    "\n",
    "    @property\n",
    "    def first_before_none(self): \n",
    "        return self.anti_join(self.first_event_A, self.any_event_B)\n",
    "    \n",
    "    @property\n",
    "    def last_before_none(self): \n",
    "        return self.anti_join(self.last_event_A, self.any_event_B)\n",
    "    \n",
    "    @property\n",
    "    def none_before_first(self): \n",
    "        return self.anti_join(self.first_event_B, self.any_event_A)\n",
    "    \n",
    "    @property\n",
    "    def none_before_last(self): \n",
    "        return self.anti_join(self.last_event_B, self.any_event_A)"
   ]
  },
  {
   "cell_type": "code",
   "execution_count": null,
   "metadata": {},
   "outputs": [],
   "source": [
    "#| export\n",
    "def say_hello(to):\n",
    "    \"Say hello to somebody\"\n",
    "    return f'Hello {to}!'"
   ]
  },
  {
   "cell_type": "code",
   "execution_count": null,
   "metadata": {},
   "outputs": [],
   "source": [
    "# write test class\n",
    "def ClassTest():\n",
    "    assert say_hello(\"Jeremy\") == \"Hello Jeremy!\""
   ]
  },
  {
   "cell_type": "code",
   "execution_count": null,
   "metadata": {},
   "outputs": [],
   "source": [
    "#| hide\n",
    "from nbdev.showdoc import *"
   ]
  },
  {
   "cell_type": "code",
   "execution_count": null,
   "metadata": {},
   "outputs": [],
   "source": [
    "#| hide\n",
    "import nbdev; nbdev.nbdev_export()"
   ]
  }
 ],
 "metadata": {
  "kernelspec": {
   "display_name": "python3",
   "language": "python",
   "name": "python3"
  }
 },
 "nbformat": 4,
 "nbformat_minor": 4
}
